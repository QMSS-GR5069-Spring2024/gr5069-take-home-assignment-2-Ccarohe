{
 "cells": [
  {
   "cell_type": "code",
   "execution_count": null,
   "id": "65c008dd",
   "metadata": {},
   "outputs": [],
   "source": [
    "#Description of Github Project: This github project posted by New York Times that named Covid-19-Data contains data of deaths,\n",
    "#raw data through years etc. "
   ]
  },
  {
   "cell_type": "code",
   "execution_count": null,
   "id": "013f1dbe",
   "metadata": {},
   "outputs": [],
   "source": [
    "#A plot:"
   ]
  },
  {
   "cell_type": "markdown",
   "id": "47f723c1",
   "metadata": {},
   "source": [
    "### A repository of data on coronavirus cases and deaths in the U.S."
   ]
  },
  {
   "cell_type": "markdown",
   "id": "a2f3ba64",
   "metadata": {},
   "source": [
    "# COVID-19 Data by New York Times\n",
    "\n",
    "# About: A repository of data on coronavirus cases and deaths in the U.S.\n",
    "\n",
    "\n",
    "## Excess Deaths During the Coronavirus Pandemic:\n",
    "- **deaths**: _The total number of confirmed deaths recorded from any cause.\n",
    "- **expected_deaths**: _The baseline number of expected deaths, calculated from a historical average. See expected deaths.\n",
    "- **excess_deaths**: _The number of deaths minus the expected deaths."
   ]
  },
  {
   "cell_type": "code",
   "execution_count": null,
   "id": "99267cfa",
   "metadata": {},
   "outputs": [],
   "source": [
    "|Col 1 |Col 2 |Col 3 |Col 4 |\n",
    "|------|------|------|------|\n",
    "|2020  |2021  |2022  |2024  |\n",
    "|Yes   |Yes   |Yes   |Yes   |"
   ]
  }
 ],
 "metadata": {
  "kernelspec": {
   "display_name": "Python 3 (ipykernel)",
   "language": "python",
   "name": "python3"
  },
  "language_info": {
   "codemirror_mode": {
    "name": "ipython",
    "version": 3
   },
   "file_extension": ".py",
   "mimetype": "text/x-python",
   "name": "python",
   "nbconvert_exporter": "python",
   "pygments_lexer": "ipython3",
   "version": "3.11.5"
  }
 },
 "nbformat": 4,
 "nbformat_minor": 5
}
